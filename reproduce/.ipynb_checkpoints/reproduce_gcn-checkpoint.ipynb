{
 "cells": [
  {
   "cell_type": "code",
   "execution_count": 2,
   "id": "5e018f03-414a-4c51-87da-86befe2ec7e8",
   "metadata": {},
   "outputs": [],
   "source": [
    "import os,sys\n",
    "import pandas as pd\n",
    "import numpy as np\n",
    "from sklearn.model_selection import KFold\n",
    "from stellargraph.mapper import PaddedGraphGenerator\n",
    "from stellargraph.layer import GCNSupervisedGraphClassification\n",
    "from reproduce_gcn_utils import *\n",
    "\n",
    "from tensorflow.keras import Model\n",
    "from tensorflow.keras.layers import Dense\n",
    "from tensorflow.keras.optimizers import Adam\n",
    "from tensorflow.keras.losses import binary_crossentropy,mean_squared_error\n",
    "from tensorflow.keras.callbacks import EarlyStopping"
   ]
  },
  {
   "cell_type": "code",
   "execution_count": 4,
   "id": "688830a2-6d12-45e4-834e-b9e6d4192f22",
   "metadata": {},
   "outputs": [],
   "source": [
    "ori_train = pd.read_csv('data/reproduce_gcn_data/remove0123_sample100.csv')\n",
    "hla = pd.read_csv('data/reproduce_gcn_data/hla2paratopeTable_aligned.txt',sep='\\t')\n",
    "after_pca = np.loadtxt('data/reproduce_gcn_data/after_pca.txt')\n",
    "hla_dic = hla_df_to_dic(hla)\n",
    "inventory = list(hla_dic.keys())\n",
    "dic_inventory = dict_inventory(inventory)\n",
    "ori_train['immunogenicity'], ori_train['potential'] = ori_train['potential'], ori_train['immunogenicity']\n",
    "kf = KFold(n_splits=10)\n",
    "fold_indices = list(kf.split(np.arange(ori_train.shape[0])))\n",
    "holding = {'validation':[],'dengue':[],'cell':[],'covid':[]}"
   ]
  },
  {
   "cell_type": "code",
   "execution_count": 5,
   "id": "a01e1e14-966f-4c10-a523-be611ef3e759",
   "metadata": {},
   "outputs": [
    {
     "name": "stderr",
     "output_type": "stream",
     "text": [
      "100%|██████████| 8971/8971 [00:32<00:00, 272.21it/s]\n"
     ]
    },
    {
     "name": "stdout",
     "output_type": "stream",
     "text": [
      "Epoch 1/100\n",
      "32/32 [==============================] - 3s 73ms/step - loss: 0.0661 - val_loss: 0.0436\n",
      "Epoch 2/100\n",
      "32/32 [==============================] - 2s 54ms/step - loss: 0.0617 - val_loss: 0.0423\n",
      "Epoch 3/100\n",
      "32/32 [==============================] - 2s 53ms/step - loss: 0.0616 - val_loss: 0.0348\n",
      "Epoch 4/100\n",
      "32/32 [==============================] - 2s 51ms/step - loss: 0.0606 - val_loss: 0.0415\n",
      "Epoch 5/100\n",
      "32/32 [==============================] - 2s 50ms/step - loss: 0.0597 - val_loss: 0.0256\n",
      "Epoch 6/100\n",
      "32/32 [==============================] - 2s 53ms/step - loss: 0.0600 - val_loss: 0.0255\n",
      "Epoch 7/100\n",
      "32/32 [==============================] - 2s 51ms/step - loss: 0.0590 - val_loss: 0.0236\n",
      "Epoch 8/100\n",
      "32/32 [==============================] - 2s 52ms/step - loss: 0.0577 - val_loss: 0.0317\n",
      "Epoch 9/100\n",
      "32/32 [==============================] - 2s 60ms/step - loss: 0.0594 - val_loss: 0.0205\n",
      "Epoch 10/100\n",
      "32/32 [==============================] - 2s 53ms/step - loss: 0.0579 - val_loss: 0.0197\n"
     ]
    },
    {
     "name": "stderr",
     "output_type": "stream",
     "text": [
      "100%|██████████| 408/408 [00:01<00:00, 260.05it/s]\n",
      "100%|██████████| 522/522 [00:01<00:00, 276.89it/s]\n",
      "100%|██████████| 92/92 [00:00<00:00, 264.14it/s]\n"
     ]
    },
    {
     "name": "stdout",
     "output_type": "stream",
     "text": [
      "round 1, finished covid\n"
     ]
    }
   ],
   "source": [
    "for fold in fold_indices:\n",
    "    i = 1\n",
    "    graphs, graph_labels = Graph_Constructor.entrance(ori_train, after_pca, hla_dic, dic_inventory)\n",
    "    generator = PaddedGraphGenerator(graphs=graphs)\n",
    "    gc_model = GCNSupervisedGraphClassification(\n",
    "        layer_sizes=[64, 64],\n",
    "        activations=[\"relu\", \"relu\"],\n",
    "        generator=generator,\n",
    "        dropout=0.2, )\n",
    "    x_inp, x_out = gc_model.in_out_tensors()\n",
    "    predictions = Dense(units=32, activation=\"relu\")(x_out)\n",
    "    predictions = Dense(units=16, activation=\"relu\")(predictions)\n",
    "    predictions = Dense(units=1, activation=\"sigmoid\")(predictions)\n",
    "    model = Model(inputs=x_inp, outputs=predictions)\n",
    "    model.compile(optimizer=Adam(0.001), loss=mean_squared_error)\n",
    "    train_gen = generator.flow(\n",
    "        fold[0],\n",
    "        targets=graph_labels.iloc[fold[0]].values,\n",
    "        batch_size=256, )\n",
    "    test_gen = generator.flow(\n",
    "        fold[1],\n",
    "        targets=graph_labels.iloc[fold[1]].values,\n",
    "        batch_size=1, )\n",
    "    epochs = 100\n",
    "    es1 = EarlyStopping(monitor='loss', patience=2, restore_best_weights=False)\n",
    "    es2 = EarlyStopping(monitor='val_loss', patience=15, restore_best_weights=False)\n",
    "    history = model.fit(\n",
    "        train_gen, epochs=epochs, validation_data=test_gen, shuffle=True, callbacks=[es1, es2, ],\n",
    "        class_weight={0: 0.5, 1: 0.5})\n",
    "\n",
    "    # test in validation\n",
    "    pred = model.predict(test_gen)\n",
    "    from sklearn.metrics import mean_squared_error\n",
    "    result = mean_squared_error(graph_labels.iloc[fold_indices[0][1]], pred, squared=False)\n",
    "    holding['validation'].append(result)\n",
    "\n",
    "    # test in dengue\n",
    "    ori_test = pd.read_csv('data/dengue_test.csv')\n",
    "    graphs_test, graph_labels_test = Graph_Constructor.entrance(ori_test, after_pca, hla_dic, dic_inventory)\n",
    "    generator_test = PaddedGraphGenerator(graphs=graphs_test)\n",
    "    input = generator_test.flow(graphs_test)\n",
    "    prediction = model.predict(input)\n",
    "    from sklearn.metrics import accuracy_score, recall_score, precision_score\n",
    "    hard = [1 if item >= 0.5 else 0 for item in prediction[:, 0]]\n",
    "    result = accuracy_score(graph_labels_test, hard)\n",
    "    holding['dengue'].append(result)\n",
    "\n",
    "    # test in cell\n",
    "    ori_test_cell = pd.read_csv('data/reproduce_gcn_data/ori_test_cells.csv')\n",
    "    graphs_test, graph_labels_test = Graph_Constructor.entrance(ori_test_cell, after_pca, hla_dic, dic_inventory)\n",
    "    generator_test = PaddedGraphGenerator(graphs=graphs_test)\n",
    "    input = generator_test.flow(graphs_test)\n",
    "    prediction = model.predict(input)\n",
    "    hard = [1 if item >= 0.5 else 0 for item in prediction]\n",
    "    result1 = recall_score(graph_labels_test, hard)  # recall\n",
    "    ori_test_cell['result'] = prediction\n",
    "    ori_test_cell = ori_test_cell.sort_values(by='result', ascending=False).set_index(\n",
    "        pd.Index(np.arange(ori_test_cell.shape[0])))\n",
    "    result2 = np.count_nonzero(ori_test_cell['immunogenicity'].values[:20] == 1)  # top20\n",
    "    result3 = np.count_nonzero(ori_test_cell['immunogenicity'].values[:50] == 1)  # top50\n",
    "    holding['cell'].append((result1, result2, result3))\n",
    "\n",
    "    # test in covid\n",
    "    ori = pd.read_csv('data/reproduce_gcn_data/sars_cov_2_result.csv')\n",
    "    ori = ori.sample(frac=1, replace=False).set_index(pd.Index(np.arange(ori.shape[0])))\n",
    "    ori_test_covid = retain_910(ori)\n",
    "    graphs_test, graph_labels_test = Graph_Constructor.entrance(ori_test_covid, after_pca, hla_dic, dic_inventory)\n",
    "    generator_test = PaddedGraphGenerator(graphs=graphs_test)\n",
    "    input = generator_test.flow(graphs_test)\n",
    "    prediction = model.predict(input)\n",
    "    hard = [1 if item >= 0.5 else 0 for item in prediction]\n",
    "    result1 = recall_score(ori_test_covid['immunogenicity-con'], hard)  # convalescent recall\n",
    "    result2 = recall_score(ori_test_covid['immunogenicity'], hard)  # unexposed recall\n",
    "    result3 = precision_score(ori_test_covid['immunogenicity-con'], hard)  # convalescent recall\n",
    "    result4 = precision_score(ori_test_covid['immunogenicity'], hard)  # unexposed recall\n",
    "    holding['covid'].append((result1, result2, result3, result4))\n",
    "    print('round {}, finished covid'.format(i))\n",
    "    break"
   ]
  },
  {
   "cell_type": "code",
   "execution_count": 6,
   "id": "97c71f38-9587-4ae0-bb6a-1e830221c803",
   "metadata": {},
   "outputs": [
    {
     "name": "stdout",
     "output_type": "stream",
     "text": [
      "{'validation': [0.1403044852465869], 'dengue': [0.8504901960784313], 'cell': [(0.7428571428571429, 2, 2)], 'covid': [(0.72, 0.625, 0.2465753424657534, 0.0684931506849315)]}\n"
     ]
    }
   ],
   "source": [
    "print(holding)"
   ]
  },
  {
   "cell_type": "code",
   "execution_count": null,
   "id": "a4b731b6-2f98-4618-b89a-349dac5a1213",
   "metadata": {},
   "outputs": [],
   "source": []
  }
 ],
 "metadata": {
  "kernelspec": {
   "display_name": "Python 3",
   "language": "python",
   "name": "python3"
  },
  "language_info": {
   "codemirror_mode": {
    "name": "ipython",
    "version": 3
   },
   "file_extension": ".py",
   "mimetype": "text/x-python",
   "name": "python",
   "nbconvert_exporter": "python",
   "pygments_lexer": "ipython3",
   "version": "3.6.13"
  }
 },
 "nbformat": 4,
 "nbformat_minor": 5
}
