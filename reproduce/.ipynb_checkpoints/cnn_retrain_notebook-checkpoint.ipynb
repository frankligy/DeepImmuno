{
 "cells": [
  {
   "cell_type": "code",
   "execution_count": 2,
   "id": "d6ca1c3c-d218-47f7-afb5-d3d0262f297a",
   "metadata": {},
   "outputs": [],
   "source": [
    "from cnn_retrain import *\n",
    "# all the functions can be inspected in cnn_train.py file (in reproduce folder as well), this is just a notebook showing how to train the model"
   ]
  },
  {
   "cell_type": "code",
   "execution_count": 3,
   "id": "7405e801-c11f-4ecf-adb2-f60ce8f2c160",
   "metadata": {},
   "outputs": [],
   "source": [
    "# set your working directory to the reproduce folder\n",
    "os.chdir('/Users/E0532183/Documents/DeepImmuno/reproduce')"
   ]
  },
  {
   "cell_type": "code",
   "execution_count": 4,
   "id": "d8d42065-5507-4dc2-a09c-bbe4791b3856",
   "metadata": {},
   "outputs": [],
   "source": [
    "# load after_pca, this stores the features to encode amino acid/peptides\n",
    "after_pca = np.loadtxt('./data/after_pca.txt')"
   ]
  },
  {
   "cell_type": "code",
   "execution_count": 5,
   "id": "d9d58eaa-de93-47c6-bfea-d4208a1c5daf",
   "metadata": {},
   "outputs": [
    {
     "data": {
      "text/html": [
       "<div>\n",
       "<style scoped>\n",
       "    .dataframe tbody tr th:only-of-type {\n",
       "        vertical-align: middle;\n",
       "    }\n",
       "\n",
       "    .dataframe tbody tr th {\n",
       "        vertical-align: top;\n",
       "    }\n",
       "\n",
       "    .dataframe thead th {\n",
       "        text-align: right;\n",
       "    }\n",
       "</style>\n",
       "<table border=\"1\" class=\"dataframe\">\n",
       "  <thead>\n",
       "    <tr style=\"text-align: right;\">\n",
       "      <th></th>\n",
       "      <th>peptide</th>\n",
       "      <th>HLA</th>\n",
       "      <th>immunogenicity</th>\n",
       "      <th>test</th>\n",
       "      <th>respond</th>\n",
       "      <th>potential</th>\n",
       "    </tr>\n",
       "  </thead>\n",
       "  <tbody>\n",
       "    <tr>\n",
       "      <th>0</th>\n",
       "      <td>LYTISSESL</td>\n",
       "      <td>HLA-A*2402</td>\n",
       "      <td>Negative</td>\n",
       "      <td>5</td>\n",
       "      <td>0</td>\n",
       "      <td>0.269056</td>\n",
       "    </tr>\n",
       "    <tr>\n",
       "      <th>1</th>\n",
       "      <td>IIFAVQTIV</td>\n",
       "      <td>HLA-A*0201</td>\n",
       "      <td>Negative</td>\n",
       "      <td>10</td>\n",
       "      <td>0</td>\n",
       "      <td>0.173836</td>\n",
       "    </tr>\n",
       "    <tr>\n",
       "      <th>2</th>\n",
       "      <td>LPVCAFSSA</td>\n",
       "      <td>HLA-B*0702</td>\n",
       "      <td>Positive</td>\n",
       "      <td>4</td>\n",
       "      <td>2</td>\n",
       "      <td>0.906985</td>\n",
       "    </tr>\n",
       "    <tr>\n",
       "      <th>3</th>\n",
       "      <td>AMVGAVLTA</td>\n",
       "      <td>HLA-A*0201</td>\n",
       "      <td>Positive-Low</td>\n",
       "      <td>0</td>\n",
       "      <td>0</td>\n",
       "      <td>0.970061</td>\n",
       "    </tr>\n",
       "    <tr>\n",
       "      <th>4</th>\n",
       "      <td>IMCSIVPLW</td>\n",
       "      <td>HLA-A*2402</td>\n",
       "      <td>Negative</td>\n",
       "      <td>5</td>\n",
       "      <td>0</td>\n",
       "      <td>0.280590</td>\n",
       "    </tr>\n",
       "  </tbody>\n",
       "</table>\n",
       "</div>"
      ],
      "text/plain": [
       "     peptide         HLA immunogenicity  test  respond  potential\n",
       "0  LYTISSESL  HLA-A*2402       Negative     5        0   0.269056\n",
       "1  IIFAVQTIV  HLA-A*0201       Negative    10        0   0.173836\n",
       "2  LPVCAFSSA  HLA-B*0702       Positive     4        2   0.906985\n",
       "3  AMVGAVLTA  HLA-A*0201   Positive-Low     0        0   0.970061\n",
       "4  IMCSIVPLW  HLA-A*2402       Negative     5        0   0.280590"
      ]
     },
     "execution_count": 5,
     "metadata": {},
     "output_type": "execute_result"
    }
   ],
   "source": [
    "# load training dataset\n",
    "ori = pd.read_csv('./data/remove0123_sample100.csv')\n",
    "ori = ori.sample(frac=1, replace=False).set_index(pd.Index(np.arange(ori.shape[0])))\n",
    "ori.head()"
   ]
  },
  {
   "cell_type": "markdown",
   "id": "e4173dd1-ae4d-48ce-995a-9b86567ae9cc",
   "metadata": {},
   "source": [
    "## So, change the training dataset is the most important steps for retrain, make sure you have 'peptide' and 'HLA' columns, since we are training a regression model, the response variable is 'potential', this corresponds to the cell[6] last line, we use pull_label_aaindex_continuous function, if you instead training on binary output say 'immunogenicity' column, we can use pull_label_aaindex_binary function, if using binary output, we should also change the loss function in cell [11] from MSE to crossentropy function. "
   ]
  },
  {
   "cell_type": "code",
   "execution_count": 6,
   "id": "d6bb647d-b2d2-4e47-95fc-e24cc4c95f0b",
   "metadata": {},
   "outputs": [],
   "source": [
    "# load hla paratope, this is used for encoding HLA sequence\n",
    "hla = pd.read_csv('./data/hla2paratopeTable_aligned.txt', sep='\\t')"
   ]
  },
  {
   "cell_type": "code",
   "execution_count": 7,
   "id": "bf4ba625-7cd0-471a-a1bf-a128efbde35b",
   "metadata": {},
   "outputs": [],
   "source": [
    "# some pre-processing to parse the inputs to be compatible with deep learning foramt\n",
    "hla_dic = hla_df_to_dic(hla)\n",
    "inventory = list(hla_dic.keys())\n",
    "dic_inventory = dict_inventory(inventory)\n",
    "dataset = construct_aaindex(ori, hla_dic, after_pca,dic_inventory)\n",
    "input1 = pull_peptide_aaindex(dataset)\n",
    "input2 = pull_hla_aaindex(dataset)\n",
    "label = pull_label_aaindex_continuous(dataset)"
   ]
  },
  {
   "cell_type": "code",
   "execution_count": 8,
   "id": "e26194b1-c7d6-433a-929e-a16ddf492a23",
   "metadata": {},
   "outputs": [
    {
     "data": {
      "text/plain": [
       "(8971, 10, 12, 1)"
      ]
     },
     "execution_count": 8,
     "metadata": {},
     "output_type": "execute_result"
    }
   ],
   "source": [
    "# representing peptide\n",
    "input1.shape"
   ]
  },
  {
   "cell_type": "code",
   "execution_count": 9,
   "id": "a4d7bd9c-8ebd-4f35-a530-b0f18b0bb1d3",
   "metadata": {},
   "outputs": [
    {
     "data": {
      "text/plain": [
       "(8971, 46, 12, 1)"
      ]
     },
     "execution_count": 9,
     "metadata": {},
     "output_type": "execute_result"
    }
   ],
   "source": [
    "# representing hla\n",
    "input2.shape"
   ]
  },
  {
   "cell_type": "code",
   "execution_count": 10,
   "id": "dadf28d1-c0e3-4786-9a5c-e4dc92d47626",
   "metadata": {},
   "outputs": [
    {
     "data": {
      "text/plain": [
       "(8971, 1)"
      ]
     },
     "execution_count": 10,
     "metadata": {},
     "output_type": "execute_result"
    }
   ],
   "source": [
    "# representing label\n",
    "label.shape"
   ]
  },
  {
   "cell_type": "code",
   "execution_count": 10,
   "id": "d37824b4-3732-4c90-a704-6ef5f0e408bf",
   "metadata": {},
   "outputs": [],
   "source": [
    "# start training, first split 90% train and 10% internal validation\n",
    "array = np.arange(len(dataset))\n",
    "train_index = np.random.choice(array,int(len(dataset)*0.9),replace=False)\n",
    "valid_index = [item for item in array if item not in train_index]\n",
    "input1_train = input1[train_index]\n",
    "input1_valid = input1[valid_index]\n",
    "input2_train = input2[train_index]\n",
    "input2_valid = input2[valid_index]\n",
    "label_train = label[train_index]\n",
    "label_valid = label[valid_index]"
   ]
  },
  {
   "cell_type": "code",
   "execution_count": 11,
   "id": "93c0e305-f20b-4045-b311-c3846607200c",
   "metadata": {
    "scrolled": true,
    "tags": []
   },
   "outputs": [
    {
     "name": "stdout",
     "output_type": "stream",
     "text": [
      "Epoch 1/200\n",
      "64/64 [==============================] - 1s 9ms/step - loss: 0.0555 - accuracy: 0.0000e+00 - val_loss: 0.0983 - val_accuracy: 0.0000e+00\n",
      "Epoch 2/200\n",
      "64/64 [==============================] - 0s 7ms/step - loss: 0.0470 - accuracy: 0.0000e+00 - val_loss: 0.0895 - val_accuracy: 0.0000e+00\n",
      "Epoch 3/200\n",
      "64/64 [==============================] - 0s 7ms/step - loss: 0.0445 - accuracy: 0.0000e+00 - val_loss: 0.0864 - val_accuracy: 0.0000e+00\n",
      "Epoch 4/200\n",
      "64/64 [==============================] - 1s 9ms/step - loss: 0.0434 - accuracy: 0.0000e+00 - val_loss: 0.0846 - val_accuracy: 0.0000e+00\n",
      "Epoch 5/200\n",
      "64/64 [==============================] - 1s 9ms/step - loss: 0.0426 - accuracy: 0.0000e+00 - val_loss: 0.0837 - val_accuracy: 0.0000e+00\n",
      "Epoch 6/200\n",
      "64/64 [==============================] - 1s 8ms/step - loss: 0.0416 - accuracy: 0.0000e+00 - val_loss: 0.0825 - val_accuracy: 0.0000e+00\n",
      "Epoch 7/200\n",
      "64/64 [==============================] - 1s 9ms/step - loss: 0.0411 - accuracy: 0.0000e+00 - val_loss: 0.0813 - val_accuracy: 0.0000e+00\n",
      "Epoch 8/200\n",
      "64/64 [==============================] - 1s 9ms/step - loss: 0.0401 - accuracy: 0.0000e+00 - val_loss: 0.0811 - val_accuracy: 0.0000e+00\n",
      "Epoch 9/200\n",
      "64/64 [==============================] - 1s 11ms/step - loss: 0.0397 - accuracy: 0.0000e+00 - val_loss: 0.0808 - val_accuracy: 0.0000e+00\n",
      "Epoch 10/200\n",
      "64/64 [==============================] - 1s 10ms/step - loss: 0.0398 - accuracy: 0.0000e+00 - val_loss: 0.0803 - val_accuracy: 0.0000e+00\n",
      "Epoch 11/200\n",
      "64/64 [==============================] - 1s 11ms/step - loss: 0.0393 - accuracy: 0.0000e+00 - val_loss: 0.0797 - val_accuracy: 0.0000e+00\n",
      "Epoch 12/200\n",
      "64/64 [==============================] - 1s 11ms/step - loss: 0.0390 - accuracy: 0.0000e+00 - val_loss: 0.0802 - val_accuracy: 0.0000e+00\n",
      "Epoch 13/200\n",
      "64/64 [==============================] - 1s 11ms/step - loss: 0.0386 - accuracy: 0.0000e+00 - val_loss: 0.0794 - val_accuracy: 0.0000e+00\n",
      "Epoch 14/200\n",
      "64/64 [==============================] - 1s 11ms/step - loss: 0.0380 - accuracy: 0.0000e+00 - val_loss: 0.0790 - val_accuracy: 0.0000e+00\n",
      "Epoch 15/200\n",
      "64/64 [==============================] - 1s 11ms/step - loss: 0.0380 - accuracy: 0.0000e+00 - val_loss: 0.0791 - val_accuracy: 0.0000e+00\n",
      "Epoch 16/200\n",
      "64/64 [==============================] - 1s 11ms/step - loss: 0.0376 - accuracy: 0.0000e+00 - val_loss: 0.0784 - val_accuracy: 0.0000e+00\n",
      "Epoch 17/200\n",
      "64/64 [==============================] - 1s 10ms/step - loss: 0.0376 - accuracy: 0.0000e+00 - val_loss: 0.0778 - val_accuracy: 0.0000e+00\n",
      "Epoch 18/200\n",
      "64/64 [==============================] - 1s 10ms/step - loss: 0.0376 - accuracy: 0.0000e+00 - val_loss: 0.0779 - val_accuracy: 0.0000e+00\n",
      "Epoch 19/200\n",
      "64/64 [==============================] - 1s 9ms/step - loss: 0.0368 - accuracy: 0.0000e+00 - val_loss: 0.0776 - val_accuracy: 0.0000e+00\n",
      "Epoch 20/200\n",
      "64/64 [==============================] - 1s 9ms/step - loss: 0.0368 - accuracy: 0.0000e+00 - val_loss: 0.0774 - val_accuracy: 0.0000e+00\n",
      "Epoch 21/200\n",
      "64/64 [==============================] - 1s 10ms/step - loss: 0.0363 - accuracy: 0.0000e+00 - val_loss: 0.0771 - val_accuracy: 0.0000e+00\n",
      "Epoch 22/200\n",
      "64/64 [==============================] - 1s 11ms/step - loss: 0.0362 - accuracy: 0.0000e+00 - val_loss: 0.0766 - val_accuracy: 0.0000e+00\n",
      "Epoch 23/200\n",
      "64/64 [==============================] - 1s 11ms/step - loss: 0.0360 - accuracy: 0.0000e+00 - val_loss: 0.0768 - val_accuracy: 0.0000e+00\n",
      "Epoch 24/200\n",
      "64/64 [==============================] - 1s 11ms/step - loss: 0.0357 - accuracy: 0.0000e+00 - val_loss: 0.0765 - val_accuracy: 0.0000e+00\n",
      "Epoch 25/200\n",
      "64/64 [==============================] - 1s 11ms/step - loss: 0.0359 - accuracy: 0.0000e+00 - val_loss: 0.0768 - val_accuracy: 0.0000e+00\n",
      "Epoch 26/200\n",
      "64/64 [==============================] - 1s 11ms/step - loss: 0.0356 - accuracy: 0.0000e+00 - val_loss: 0.0763 - val_accuracy: 0.0000e+00\n",
      "Epoch 27/200\n",
      "64/64 [==============================] - 1s 10ms/step - loss: 0.0351 - accuracy: 0.0000e+00 - val_loss: 0.0762 - val_accuracy: 0.0000e+00\n",
      "Epoch 28/200\n",
      "64/64 [==============================] - 1s 11ms/step - loss: 0.0351 - accuracy: 0.0000e+00 - val_loss: 0.0759 - val_accuracy: 0.0000e+00\n",
      "Epoch 29/200\n",
      "64/64 [==============================] - 1s 10ms/step - loss: 0.0347 - accuracy: 0.0000e+00 - val_loss: 0.0756 - val_accuracy: 0.0000e+00\n",
      "Epoch 30/200\n",
      "64/64 [==============================] - 1s 10ms/step - loss: 0.0344 - accuracy: 0.0000e+00 - val_loss: 0.0756 - val_accuracy: 0.0000e+00\n",
      "Epoch 31/200\n",
      "64/64 [==============================] - 1s 11ms/step - loss: 0.0341 - accuracy: 0.0000e+00 - val_loss: 0.0755 - val_accuracy: 0.0000e+00\n",
      "Epoch 32/200\n",
      "64/64 [==============================] - 1s 11ms/step - loss: 0.0342 - accuracy: 0.0000e+00 - val_loss: 0.0758 - val_accuracy: 0.0000e+00\n",
      "Epoch 33/200\n",
      "64/64 [==============================] - 1s 12ms/step - loss: 0.0342 - accuracy: 0.0000e+00 - val_loss: 0.0756 - val_accuracy: 0.0000e+00\n"
     ]
    }
   ],
   "source": [
    "# main training steps\n",
    "cnn_model = seperateCNN()\n",
    "cnn_model.compile(\n",
    "    loss=keras.losses.MeanSquaredError(),\n",
    "    optimizer=keras.optimizers.Adam(lr=0.0001),\n",
    "    metrics=['accuracy'])\n",
    "\n",
    "callback_val = keras.callbacks.EarlyStopping(monitor='val_loss', patience=15,restore_best_weights=False)\n",
    "callback_train = keras.callbacks.EarlyStopping(monitor='loss',patience=2,restore_best_weights=False)\n",
    "history = cnn_model.fit(\n",
    "    x=[input1_train,input2_train],   # feed a list into\n",
    "    y=label_train,\n",
    "    validation_data = ([input1_valid,input2_valid],label_valid),\n",
    "    batch_size=128,\n",
    "    epochs=200,\n",
    "    class_weight = {0:0.5,1:0.5},   # I have 20% positive and 80% negative in my training data\n",
    "    callbacks = [callback_val,callback_train])"
   ]
  },
  {
   "cell_type": "code",
   "execution_count": 12,
   "id": "f9fa23c7-c016-404d-a74a-79e883509076",
   "metadata": {
    "scrolled": true,
    "tags": []
   },
   "outputs": [
    {
     "name": "stdout",
     "output_type": "stream",
     "text": [
      "Collecting matplotlib\n",
      "  Downloading matplotlib-3.3.4-cp36-cp36m-macosx_10_9_x86_64.whl (8.5 MB)\n",
      "\u001b[K     |████████████████████████████████| 8.5 MB 635 kB/s eta 0:00:01\n",
      "\u001b[?25hRequirement already satisfied: pyparsing!=2.0.4,!=2.1.2,!=2.1.6,>=2.0.3 in /opt/anaconda3/envs/deepimmuno_cnn_env/lib/python3.6/site-packages (from matplotlib) (3.0.9)\n",
      "Requirement already satisfied: numpy>=1.15 in /opt/anaconda3/envs/deepimmuno_cnn_env/lib/python3.6/site-packages (from matplotlib) (1.18.5)\n",
      "Collecting pillow>=6.2.0\n",
      "  Downloading Pillow-8.4.0-cp36-cp36m-macosx_10_10_x86_64.whl (3.0 MB)\n",
      "\u001b[K     |████████████████████████████████| 3.0 MB 636 kB/s eta 0:00:01\n",
      "\u001b[?25hCollecting kiwisolver>=1.0.1\n",
      "  Downloading kiwisolver-1.3.1-cp36-cp36m-macosx_10_9_x86_64.whl (61 kB)\n",
      "\u001b[K     |████████████████████████████████| 61 kB 740 kB/s eta 0:00:01\n",
      "\u001b[?25hRequirement already satisfied: python-dateutil>=2.1 in /opt/anaconda3/envs/deepimmuno_cnn_env/lib/python3.6/site-packages (from matplotlib) (2.8.2)\n",
      "Collecting cycler>=0.10\n",
      "  Using cached cycler-0.11.0-py3-none-any.whl (6.4 kB)\n",
      "Requirement already satisfied: six>=1.5 in /opt/anaconda3/envs/deepimmuno_cnn_env/lib/python3.6/site-packages (from python-dateutil>=2.1->matplotlib) (1.16.0)\n",
      "Installing collected packages: pillow, kiwisolver, cycler, matplotlib\n",
      "Successfully installed cycler-0.11.0 kiwisolver-1.3.1 matplotlib-3.3.4 pillow-8.4.0\n"
     ]
    }
   ],
   "source": [
    "!pip install matplotlib"
   ]
  },
  {
   "cell_type": "code",
   "execution_count": 12,
   "id": "bcb6267e-a038-4da4-8a40-f05cdc925c4f",
   "metadata": {},
   "outputs": [
    {
     "data": {
      "image/png": "[encoded data removed]",
      "text/plain": [
       "<Figure size 432x288 with 2 Axes>"
      ]
     },
     "metadata": {
      "needs_background": "light"
     },
     "output_type": "display_data"
    }
   ],
   "source": [
    "draw_history(history)"
   ]
  },
  {
   "cell_type": "code",
   "execution_count": 11,
   "id": "f4831b39-dc79-4d83-a9ba-bd0707de9a59",
   "metadata": {},
   "outputs": [
    {
     "name": "stdout",
     "output_type": "stream",
     "text": [
      "absl-py==1.0.0\n",
      "anyio==3.5.0\n",
      "appnope==0.1.3\n",
      "argon2-cffi==21.3.0\n",
      "argon2-cffi-bindings==21.2.0\n",
      "astunparse==1.6.3\n",
      "async-generator==1.10\n",
      "attrs==21.4.0\n",
      "Babel==2.10.1\n",
      "backcall==0.2.0\n",
      "bleach==4.1.0\n",
      "cachetools==4.2.4\n",
      "certifi==2021.5.30\n",
      "cffi==1.15.0\n",
      "charset-normalizer==2.0.12\n",
      "contextvars==2.4\n",
      "cycler==0.11.0\n",
      "dataclasses==0.8\n",
      "decorator==5.1.1\n",
      "defusedxml==0.7.1\n",
      "entrypoints==0.4\n",
      "gast==0.3.3\n",
      "google-auth==2.6.6\n",
      "google-auth-oauthlib==0.4.6\n",
      "google-pasta==0.2.0\n",
      "grpcio==1.46.0\n",
      "h5py==2.10.0\n",
      "idna==3.3\n",
      "immutables==0.17\n",
      "importlib-metadata==4.8.3\n",
      "ipykernel==5.5.6\n",
      "ipython==7.16.3\n",
      "ipython-genutils==0.2.0\n",
      "jedi==0.17.2\n",
      "Jinja2==3.0.3\n",
      "json5==0.9.8\n",
      "jsonschema==3.2.0\n",
      "jupyter-client==7.1.2\n",
      "jupyter-core==4.9.2\n",
      "jupyter-server==1.13.1\n",
      "jupyterlab==3.2.9\n",
      "jupyterlab-pygments==0.1.2\n",
      "jupyterlab-server==2.10.3\n",
      "Keras-Preprocessing==1.1.2\n",
      "kiwisolver==1.3.1\n",
      "Markdown==3.3.7\n",
      "MarkupSafe==2.0.1\n",
      "matplotlib==3.3.4\n",
      "mistune==0.8.4\n",
      "nbclassic==0.3.5\n",
      "nbclient==0.5.9\n",
      "nbconvert==6.0.7\n",
      "nbformat==5.1.3\n",
      "nest-asyncio==1.5.5\n",
      "notebook==6.4.10\n",
      "numpy==1.18.5\n",
      "oauthlib==3.2.0\n",
      "opt-einsum==3.3.0\n",
      "packaging==21.3\n",
      "pandas==1.1.1\n",
      "pandocfilters==1.5.0\n",
      "parso==0.7.1\n",
      "pexpect==4.8.0\n",
      "pickleshare==0.7.5\n",
      "Pillow==8.4.0\n",
      "prometheus-client==0.14.1\n",
      "prompt-toolkit==3.0.29\n",
      "protobuf==3.19.4\n",
      "ptyprocess==0.7.0\n",
      "pyasn1==0.4.8\n",
      "pyasn1-modules==0.2.8\n",
      "pycparser==2.21\n",
      "Pygments==2.12.0\n",
      "pyparsing==3.0.9\n",
      "pyrsistent==0.18.0\n",
      "python-dateutil==2.8.2\n",
      "pytz==2022.1\n",
      "pyzmq==22.3.0\n",
      "requests==2.27.1\n",
      "requests-oauthlib==1.3.1\n",
      "rsa==4.8\n",
      "scipy==1.4.1\n",
      "Send2Trash==1.8.0\n",
      "six==1.16.0\n",
      "sniffio==1.2.0\n",
      "tensorboard==2.9.0\n",
      "tensorboard-data-server==0.6.1\n",
      "tensorboard-plugin-wit==1.8.1\n",
      "tensorflow==2.3.0\n",
      "tensorflow-estimator==2.3.0\n",
      "termcolor==1.1.0\n",
      "terminado==0.12.1\n",
      "testpath==0.6.0\n",
      "tornado==6.1\n",
      "traitlets==4.3.3\n",
      "typing_extensions==4.1.1\n",
      "urllib3==1.26.9\n",
      "wcwidth==0.2.5\n",
      "webencodings==0.5.1\n",
      "websocket-client==1.3.1\n",
      "Werkzeug==2.0.3\n",
      "wrapt==1.14.1\n",
      "zipp==3.6.0\n"
     ]
    }
   ],
   "source": [
    "!pip freeze"
   ]
  },
  {
   "cell_type": "code",
   "execution_count": null,
   "id": "0c5e9cfc-d10f-46d0-86f4-27047eb73d2d",
   "metadata": {},
   "outputs": [],
   "source": []
  }
 ],
 "metadata": {
  "kernelspec": {
   "display_name": "Python 3",
   "language": "python",
   "name": "python3"
  },
  "language_info": {
   "codemirror_mode": {
    "name": "ipython",
    "version": 3
   },
   "file_extension": ".py",
   "mimetype": "text/x-python",
   "name": "python",
   "nbconvert_exporter": "python",
   "pygments_lexer": "ipython3",
   "version": "3.6.13"
  }
 },
 "nbformat": 4,
 "nbformat_minor": 5
}
