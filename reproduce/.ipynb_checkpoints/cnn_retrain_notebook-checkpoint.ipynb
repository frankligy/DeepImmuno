{
 "cells": [
  {
   "cell_type": "code",
   "execution_count": 1,
   "id": "d6ca1c3c-d218-47f7-afb5-d3d0262f297a",
   "metadata": {},
   "outputs": [],
   "source": [
    "from cnn_retrain import *"
   ]
  },
  {
   "cell_type": "code",
   "execution_count": 2,
   "id": "7405e801-c11f-4ecf-adb2-f60ce8f2c160",
   "metadata": {},
   "outputs": [],
   "source": [
    "# set your working directory to the reproduce folder\n",
    "os.chdir('/Users/E0532183/Documents/DeepImmuno/reproduce')"
   ]
  },
  {
   "cell_type": "code",
   "execution_count": 3,
   "id": "d8d42065-5507-4dc2-a09c-bbe4791b3856",
   "metadata": {},
   "outputs": [],
   "source": [
    "# load after_pca, this stores the features to encode amino acid/peptides\n",
    "after_pca = np.loadtxt('./data/after_pca.txt')"
   ]
  },
  {
   "cell_type": "code",
   "execution_count": 4,
   "id": "d9d58eaa-de93-47c6-bfea-d4208a1c5daf",
   "metadata": {},
   "outputs": [
    {
     "data": {
      "text/html": [
       "<div>\n",
       "<style scoped>\n",
       "    .dataframe tbody tr th:only-of-type {\n",
       "        vertical-align: middle;\n",
       "    }\n",
       "\n",
       "    .dataframe tbody tr th {\n",
       "        vertical-align: top;\n",
       "    }\n",
       "\n",
       "    .dataframe thead th {\n",
       "        text-align: right;\n",
       "    }\n",
       "</style>\n",
       "<table border=\"1\" class=\"dataframe\">\n",
       "  <thead>\n",
       "    <tr style=\"text-align: right;\">\n",
       "      <th></th>\n",
       "      <th>peptide</th>\n",
       "      <th>HLA</th>\n",
       "      <th>immunogenicity</th>\n",
       "      <th>test</th>\n",
       "      <th>respond</th>\n",
       "      <th>potential</th>\n",
       "    </tr>\n",
       "  </thead>\n",
       "  <tbody>\n",
       "    <tr>\n",
       "      <th>0</th>\n",
       "      <td>IYKISISSL</td>\n",
       "      <td>HLA-A*2402</td>\n",
       "      <td>Negative</td>\n",
       "      <td>5</td>\n",
       "      <td>0</td>\n",
       "      <td>0.266342</td>\n",
       "    </tr>\n",
       "    <tr>\n",
       "      <th>1</th>\n",
       "      <td>WLSLLVPFV</td>\n",
       "      <td>HLA-A*0204</td>\n",
       "      <td>Positive</td>\n",
       "      <td>0</td>\n",
       "      <td>0</td>\n",
       "      <td>0.966157</td>\n",
       "    </tr>\n",
       "    <tr>\n",
       "      <th>2</th>\n",
       "      <td>FEHVDLSEEL</td>\n",
       "      <td>HLA-B*3701</td>\n",
       "      <td>Positive</td>\n",
       "      <td>1</td>\n",
       "      <td>1</td>\n",
       "      <td>0.966337</td>\n",
       "    </tr>\n",
       "    <tr>\n",
       "      <th>3</th>\n",
       "      <td>LLVQRVTSV</td>\n",
       "      <td>HLA-A*0201</td>\n",
       "      <td>Negative</td>\n",
       "      <td>10</td>\n",
       "      <td>0</td>\n",
       "      <td>0.215296</td>\n",
       "    </tr>\n",
       "    <tr>\n",
       "      <th>4</th>\n",
       "      <td>LMASISSFL</td>\n",
       "      <td>HLA-A*0201</td>\n",
       "      <td>Positive</td>\n",
       "      <td>0</td>\n",
       "      <td>0</td>\n",
       "      <td>0.967543</td>\n",
       "    </tr>\n",
       "  </tbody>\n",
       "</table>\n",
       "</div>"
      ],
      "text/plain": [
       "      peptide         HLA immunogenicity  test  respond  potential\n",
       "0   IYKISISSL  HLA-A*2402       Negative     5        0   0.266342\n",
       "1   WLSLLVPFV  HLA-A*0204       Positive     0        0   0.966157\n",
       "2  FEHVDLSEEL  HLA-B*3701       Positive     1        1   0.966337\n",
       "3   LLVQRVTSV  HLA-A*0201       Negative    10        0   0.215296\n",
       "4   LMASISSFL  HLA-A*0201       Positive     0        0   0.967543"
      ]
     },
     "execution_count": 4,
     "metadata": {},
     "output_type": "execute_result"
    }
   ],
   "source": [
    "# load training dataset\n",
    "ori = pd.read_csv('./data/remove0123_sample100.csv')\n",
    "ori = ori.sample(frac=1, replace=False).set_index(pd.Index(np.arange(ori.shape[0])))\n",
    "ori.head()"
   ]
  },
  {
   "cell_type": "markdown",
   "id": "e4173dd1-ae4d-48ce-995a-9b86567ae9cc",
   "metadata": {},
   "source": [
    "## So, change the training dataset is the most important steps for retrain, make sure you have 'peptide' and 'HLA' columns, since we are training a regression model, the response variable is 'potential', this corresponds to the "
   ]
  },
  {
   "cell_type": "code",
   "execution_count": 5,
   "id": "d6bb647d-b2d2-4e47-95fc-e24cc4c95f0b",
   "metadata": {},
   "outputs": [],
   "source": [
    "# load hla paratope, this is used for encoding HLA sequence\n",
    "hla = pd.read_csv('./data/hla2paratopeTable_aligned.txt', sep='\\t')"
   ]
  },
  {
   "cell_type": "code",
   "execution_count": 6,
   "id": "bf4ba625-7cd0-471a-a1bf-a128efbde35b",
   "metadata": {},
   "outputs": [],
   "source": [
    "# some pre-processing to parse the inputs to be compatible with deep learning foramt\n",
    "hla_dic = hla_df_to_dic(hla)\n",
    "inventory = list(hla_dic.keys())\n",
    "dic_inventory = dict_inventory(inventory)\n",
    "dataset = construct_aaindex(ori, hla_dic, after_pca,dic_inventory)\n",
    "input1 = pull_peptide_aaindex(dataset)\n",
    "input2 = pull_hla_aaindex(dataset)\n",
    "label = pull_label_aaindex_continuous(dataset)"
   ]
  },
  {
   "cell_type": "code",
   "execution_count": 7,
   "id": "e26194b1-c7d6-433a-929e-a16ddf492a23",
   "metadata": {},
   "outputs": [
    {
     "data": {
      "text/plain": [
       "(8971, 10, 12, 1)"
      ]
     },
     "execution_count": 7,
     "metadata": {},
     "output_type": "execute_result"
    }
   ],
   "source": [
    "# representing peptide\n",
    "input1.shape"
   ]
  },
  {
   "cell_type": "code",
   "execution_count": 8,
   "id": "a4d7bd9c-8ebd-4f35-a530-b0f18b0bb1d3",
   "metadata": {},
   "outputs": [
    {
     "data": {
      "text/plain": [
       "(8971, 46, 12, 1)"
      ]
     },
     "execution_count": 8,
     "metadata": {},
     "output_type": "execute_result"
    }
   ],
   "source": [
    "# representing hla\n",
    "input2.shape"
   ]
  },
  {
   "cell_type": "code",
   "execution_count": 9,
   "id": "dadf28d1-c0e3-4786-9a5c-e4dc92d47626",
   "metadata": {},
   "outputs": [
    {
     "data": {
      "text/plain": [
       "(8971, 1)"
      ]
     },
     "execution_count": 9,
     "metadata": {},
     "output_type": "execute_result"
    }
   ],
   "source": [
    "# representing label\n",
    "label.shape"
   ]
  },
  {
   "cell_type": "code",
   "execution_count": 10,
   "id": "d37824b4-3732-4c90-a704-6ef5f0e408bf",
   "metadata": {},
   "outputs": [],
   "source": [
    "# start training, first split 90% train and 10% internal validation\n",
    "array = np.arange(len(dataset))\n",
    "train_index = np.random.choice(array,int(len(dataset)*0.9),replace=False)\n",
    "valid_index = [item for item in array if item not in train_index]\n",
    "input1_train = input1[train_index]\n",
    "input1_valid = input1[valid_index]\n",
    "input2_train = input2[train_index]\n",
    "input2_valid = input2[valid_index]\n",
    "label_train = label[train_index]\n",
    "label_valid = label[valid_index]"
   ]
  },
  {
   "cell_type": "code",
   "execution_count": 11,
   "id": "93c0e305-f20b-4045-b311-c3846607200c",
   "metadata": {
    "scrolled": true,
    "tags": []
   },
   "outputs": [
    {
     "name": "stdout",
     "output_type": "stream",
     "text": [
      "Epoch 1/200\n",
      "64/64 [==============================] - 1s 8ms/step - loss: 0.0601 - accuracy: 0.0000e+00 - val_loss: 0.0942 - val_accuracy: 0.0000e+00\n",
      "Epoch 2/200\n",
      "64/64 [==============================] - 0s 7ms/step - loss: 0.0487 - accuracy: 0.0000e+00 - val_loss: 0.0884 - val_accuracy: 0.0000e+00\n",
      "Epoch 3/200\n",
      "64/64 [==============================] - 0s 7ms/step - loss: 0.0461 - accuracy: 0.0000e+00 - val_loss: 0.0868 - val_accuracy: 0.0000e+00\n",
      "Epoch 4/200\n",
      "64/64 [==============================] - 0s 7ms/step - loss: 0.0443 - accuracy: 0.0000e+00 - val_loss: 0.0850 - val_accuracy: 0.0000e+00\n",
      "Epoch 5/200\n",
      "64/64 [==============================] - 0s 8ms/step - loss: 0.0429 - accuracy: 0.0000e+00 - val_loss: 0.0828 - val_accuracy: 0.0000e+00\n",
      "Epoch 6/200\n",
      "64/64 [==============================] - 1s 8ms/step - loss: 0.0423 - accuracy: 0.0000e+00 - val_loss: 0.0822 - val_accuracy: 0.0000e+00\n",
      "Epoch 7/200\n",
      "64/64 [==============================] - 1s 8ms/step - loss: 0.0414 - accuracy: 0.0000e+00 - val_loss: 0.0821 - val_accuracy: 0.0000e+00\n",
      "Epoch 8/200\n",
      "64/64 [==============================] - 1s 8ms/step - loss: 0.0406 - accuracy: 0.0000e+00 - val_loss: 0.0821 - val_accuracy: 0.0000e+00\n",
      "Epoch 9/200\n",
      "64/64 [==============================] - 1s 9ms/step - loss: 0.0403 - accuracy: 0.0000e+00 - val_loss: 0.0818 - val_accuracy: 0.0000e+00\n",
      "Epoch 10/200\n",
      "64/64 [==============================] - 1s 10ms/step - loss: 0.0399 - accuracy: 0.0000e+00 - val_loss: 0.0819 - val_accuracy: 0.0000e+00\n",
      "Epoch 11/200\n",
      "64/64 [==============================] - 1s 11ms/step - loss: 0.0393 - accuracy: 0.0000e+00 - val_loss: 0.0822 - val_accuracy: 0.0000e+00\n",
      "Epoch 12/200\n",
      "64/64 [==============================] - 1s 10ms/step - loss: 0.0393 - accuracy: 0.0000e+00 - val_loss: 0.0816 - val_accuracy: 0.0000e+00\n",
      "Epoch 13/200\n",
      "64/64 [==============================] - 1s 9ms/step - loss: 0.0386 - accuracy: 0.0000e+00 - val_loss: 0.0813 - val_accuracy: 0.0000e+00\n",
      "Epoch 14/200\n",
      "64/64 [==============================] - 1s 10ms/step - loss: 0.0385 - accuracy: 0.0000e+00 - val_loss: 0.0813 - val_accuracy: 0.0000e+00\n",
      "Epoch 15/200\n",
      "64/64 [==============================] - 1s 10ms/step - loss: 0.0378 - accuracy: 0.0000e+00 - val_loss: 0.0812 - val_accuracy: 0.0000e+00\n",
      "Epoch 16/200\n",
      "64/64 [==============================] - 1s 10ms/step - loss: 0.0379 - accuracy: 0.0000e+00 - val_loss: 0.0807 - val_accuracy: 0.0000e+00\n",
      "Epoch 17/200\n",
      "64/64 [==============================] - 1s 11ms/step - loss: 0.0378 - accuracy: 0.0000e+00 - val_loss: 0.0808 - val_accuracy: 0.0000e+00\n"
     ]
    }
   ],
   "source": [
    "# main training steps\n",
    "cnn_model = seperateCNN()\n",
    "cnn_model.compile(\n",
    "    loss=keras.losses.MeanSquaredError(),\n",
    "    optimizer=keras.optimizers.Adam(lr=0.0001),\n",
    "    metrics=['accuracy'])\n",
    "\n",
    "callback_val = keras.callbacks.EarlyStopping(monitor='val_loss', patience=15,restore_best_weights=False)\n",
    "callback_train = keras.callbacks.EarlyStopping(monitor='loss',patience=2,restore_best_weights=False)\n",
    "history = cnn_model.fit(\n",
    "    x=[input1_train,input2_train],   # feed a list into\n",
    "    y=label_train,\n",
    "    validation_data = ([input1_valid,input2_valid],label_valid),\n",
    "    batch_size=128,\n",
    "    epochs=200,\n",
    "    class_weight = {0:0.5,1:0.5},   # I have 20% positive and 80% negative in my training data\n",
    "    callbacks = [callback_val,callback_train])"
   ]
  },
  {
   "cell_type": "code",
   "execution_count": 12,
   "id": "f9fa23c7-c016-404d-a74a-79e883509076",
   "metadata": {},
   "outputs": [
    {
     "name": "stdout",
     "output_type": "stream",
     "text": [
      "Collecting matplotlib\n",
      "  Downloading matplotlib-3.3.4-cp36-cp36m-macosx_10_9_x86_64.whl (8.5 MB)\n",
      "\u001b[K     |████████████████████████████████| 8.5 MB 635 kB/s eta 0:00:01\n",
      "\u001b[?25hRequirement already satisfied: pyparsing!=2.0.4,!=2.1.2,!=2.1.6,>=2.0.3 in /opt/anaconda3/envs/deepimmuno_cnn_env/lib/python3.6/site-packages (from matplotlib) (3.0.9)\n",
      "Requirement already satisfied: numpy>=1.15 in /opt/anaconda3/envs/deepimmuno_cnn_env/lib/python3.6/site-packages (from matplotlib) (1.18.5)\n",
      "Collecting pillow>=6.2.0\n",
      "  Downloading Pillow-8.4.0-cp36-cp36m-macosx_10_10_x86_64.whl (3.0 MB)\n",
      "\u001b[K     |████████████████████████████████| 3.0 MB 636 kB/s eta 0:00:01\n",
      "\u001b[?25hCollecting kiwisolver>=1.0.1\n",
      "  Downloading kiwisolver-1.3.1-cp36-cp36m-macosx_10_9_x86_64.whl (61 kB)\n",
      "\u001b[K     |████████████████████████████████| 61 kB 740 kB/s eta 0:00:01\n",
      "\u001b[?25hRequirement already satisfied: python-dateutil>=2.1 in /opt/anaconda3/envs/deepimmuno_cnn_env/lib/python3.6/site-packages (from matplotlib) (2.8.2)\n",
      "Collecting cycler>=0.10\n",
      "  Using cached cycler-0.11.0-py3-none-any.whl (6.4 kB)\n",
      "Requirement already satisfied: six>=1.5 in /opt/anaconda3/envs/deepimmuno_cnn_env/lib/python3.6/site-packages (from python-dateutil>=2.1->matplotlib) (1.16.0)\n",
      "Installing collected packages: pillow, kiwisolver, cycler, matplotlib\n",
      "Successfully installed cycler-0.11.0 kiwisolver-1.3.1 matplotlib-3.3.4 pillow-8.4.0\n"
     ]
    }
   ],
   "source": [
    "!pip install matplotlib"
   ]
  },
  {
   "cell_type": "code",
   "execution_count": 14,
   "id": "bcb6267e-a038-4da4-8a40-f05cdc925c4f",
   "metadata": {},
   "outputs": [
    {
     "ename": "NameError",
     "evalue": "name 'plt' is not defined",
     "output_type": "error",
     "traceback": [
      "\u001b[0;31m---------------------------------------------------------------------------\u001b[0m",
      "\u001b[0;31mNameError\u001b[0m                                 Traceback (most recent call last)",
      "\u001b[0;32m<ipython-input-14-11c77ac7ee5d>\u001b[0m in \u001b[0;36m<module>\u001b[0;34m\u001b[0m\n\u001b[1;32m      1\u001b[0m \u001b[0;32mimport\u001b[0m \u001b[0mmatplotlib\u001b[0m\u001b[0;34m.\u001b[0m\u001b[0mpyplot\u001b[0m \u001b[0;32mas\u001b[0m \u001b[0mplt\u001b[0m\u001b[0;34m\u001b[0m\u001b[0;34m\u001b[0m\u001b[0m\n\u001b[0;32m----> 2\u001b[0;31m \u001b[0mdraw_history\u001b[0m\u001b[0;34m(\u001b[0m\u001b[0mhistory\u001b[0m\u001b[0;34m)\u001b[0m\u001b[0;34m\u001b[0m\u001b[0;34m\u001b[0m\u001b[0m\n\u001b[0m",
      "\u001b[0;32m~/Documents/DeepImmuno/reproduce/cnn_retrain.py\u001b[0m in \u001b[0;36mdraw_history\u001b[0;34m(history)\u001b[0m\n\u001b[1;32m    207\u001b[0m \u001b[0;34m\u001b[0m\u001b[0m\n\u001b[1;32m    208\u001b[0m \u001b[0;32mdef\u001b[0m \u001b[0mdraw_history\u001b[0m\u001b[0;34m(\u001b[0m\u001b[0mhistory\u001b[0m\u001b[0;34m)\u001b[0m\u001b[0;34m:\u001b[0m\u001b[0;34m\u001b[0m\u001b[0;34m\u001b[0m\u001b[0m\n\u001b[0;32m--> 209\u001b[0;31m     \u001b[0mplt\u001b[0m\u001b[0;34m.\u001b[0m\u001b[0msubplot\u001b[0m\u001b[0;34m(\u001b[0m\u001b[0;36m211\u001b[0m\u001b[0;34m)\u001b[0m\u001b[0;34m\u001b[0m\u001b[0;34m\u001b[0m\u001b[0m\n\u001b[0m\u001b[1;32m    210\u001b[0m     \u001b[0mplt\u001b[0m\u001b[0;34m.\u001b[0m\u001b[0mtitle\u001b[0m\u001b[0;34m(\u001b[0m\u001b[0;34m'Loss'\u001b[0m\u001b[0;34m)\u001b[0m\u001b[0;34m\u001b[0m\u001b[0;34m\u001b[0m\u001b[0m\n\u001b[1;32m    211\u001b[0m     \u001b[0mplt\u001b[0m\u001b[0;34m.\u001b[0m\u001b[0mplot\u001b[0m\u001b[0;34m(\u001b[0m\u001b[0mhistory\u001b[0m\u001b[0;34m.\u001b[0m\u001b[0mhistory\u001b[0m\u001b[0;34m[\u001b[0m\u001b[0;34m'loss'\u001b[0m\u001b[0;34m]\u001b[0m\u001b[0;34m,\u001b[0m \u001b[0mlabel\u001b[0m\u001b[0;34m=\u001b[0m\u001b[0;34m'train'\u001b[0m\u001b[0;34m)\u001b[0m\u001b[0;34m\u001b[0m\u001b[0;34m\u001b[0m\u001b[0m\n",
      "\u001b[0;31mNameError\u001b[0m: name 'plt' is not defined"
     ]
    }
   ],
   "source": [
    "draw_history(history)"
   ]
  },
  {
   "cell_type": "code",
   "execution_count": null,
   "id": "dcea5a3e-86f4-48d6-af50-22a4d47c1dbe",
   "metadata": {},
   "outputs": [],
   "source": []
  }
 ],
 "metadata": {
  "kernelspec": {
   "display_name": "Python 3",
   "language": "python",
   "name": "python3"
  },
  "language_info": {
   "codemirror_mode": {
    "name": "ipython",
    "version": 3
   },
   "file_extension": ".py",
   "mimetype": "text/x-python",
   "name": "python",
   "nbconvert_exporter": "python",
   "pygments_lexer": "ipython3",
   "version": "3.6.13"
  }
 },
 "nbformat": 4,
 "nbformat_minor": 5
}
